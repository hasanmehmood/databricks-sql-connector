{
 "cells": [
  {
   "cell_type": "code",
   "execution_count": 1,
   "metadata": {},
   "outputs": [],
   "source": [
    "# !pip install databricks-sql-connector"
   ]
  },
  {
   "cell_type": "code",
   "execution_count": 2,
   "metadata": {},
   "outputs": [],
   "source": [
    "import os\n",
    "from databricks import sql as dbsql \n",
    "import pandas as pd \n",
    "\n",
    "# load env\n",
    "from dotenv import load_dotenv\n",
    "load_dotenv()\n",
    "\n",
    "# Configuration variables - from your keyvault and Databricks \n",
    "databricks_pat = os.getenv(\"DATABRICKS_PAT\")\n",
    "server_hostname = os.getenv(\"DATABRICKS_SERVER\")\n",
    "http_path = os.getenv(\"DATABRICKS_HTTP_PATH\")\n"
   ]
  },
  {
   "cell_type": "code",
   "execution_count": null,
   "metadata": {},
   "outputs": [],
   "source": []
  },
  {
   "cell_type": "code",
   "execution_count": null,
   "metadata": {},
   "outputs": [],
   "source": [
    "# Define the connection to the SQL endpoint\n",
    "connection = dbsql.connect(\n",
    "    server_hostname=server_hostname, http_path=http_path, access_token=databricks_pat\n",
    ")"
   ]
  },
  {
   "cell_type": "code",
   "execution_count": null,
   "metadata": {},
   "outputs": [],
   "source": []
  },
  {
   "cell_type": "code",
   "execution_count": null,
   "metadata": {},
   "outputs": [],
   "source": [
    "# run a query to count the number of rows in the table bronze.loan_data\n",
    "\n",
    "sql_query = \"SELECT COUNT(*) FROM bronze.tradb_tours\"\n",
    "\n",
    "with connection.cursor() as cursor:\n",
    "# Get the data\n",
    "     cursor.execute(sql_query)\n",
    "     data = cursor.fetchall()"
   ]
  },
  {
   "cell_type": "code",
   "execution_count": null,
   "metadata": {},
   "outputs": [],
   "source": [
    "# run a query on the tradb_tours to get the group by on finalDisposition\n",
    "sql_query = \"\"\"\n",
    "SELECT TourCorpWeek, COUNT(*), \n",
    "    SUM(CASE WHEN finalDisposition = 'Sale' OR trialDisposition = 'Sale' \n",
    "          THEN salePrice ELSE 0 END) AS revenue \n",
    "FROM bronze.tradb_tours \n",
    "WHERE TourCorpWeek > 3830 \n",
    "      AND finalDisposition IN ('Sale', 'No Sale', 'Pender', 'No Tour') \n",
    "GROUP BY TourCorpWeek\n",
    "\"\"\"\n",
    "\n",
    "with connection.cursor() as cursor:\n",
    "    # Get the data\n",
    "    cursor.execute(sql_query)\n",
    "    data = cursor.fetchall()\n",
    "\n",
    "# Convert the data to a pandas dataframe\n",
    "df = pd.DataFrame(data, columns=[\"TourCorpWeek\", \"Count\", \"Revenue\"])\n",
    "df"
   ]
  },
  {
   "cell_type": "code",
   "execution_count": null,
   "metadata": {},
   "outputs": [],
   "source": []
  },
  {
   "cell_type": "code",
   "execution_count": null,
   "metadata": {},
   "outputs": [],
   "source": []
  }
 ],
 "metadata": {
  "kernelspec": {
   "display_name": "venv",
   "language": "python",
   "name": "python3"
  },
  "language_info": {
   "codemirror_mode": {
    "name": "ipython",
    "version": 3
   },
   "file_extension": ".py",
   "mimetype": "text/x-python",
   "name": "python",
   "nbconvert_exporter": "python",
   "pygments_lexer": "ipython3",
   "version": "3.8.16"
  }
 },
 "nbformat": 4,
 "nbformat_minor": 2
}
